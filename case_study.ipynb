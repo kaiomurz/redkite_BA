{
 "cells": [
  {
   "cell_type": "code",
   "execution_count": 1,
   "id": "894ac91b",
   "metadata": {},
   "outputs": [],
   "source": [
    "import pandas as pd\n"
   ]
  },
  {
   "cell_type": "markdown",
   "id": "b622ebc3",
   "metadata": {},
   "source": [
    "### Problem definition and approach\n",
    "The objective is to help the client figure out whether the \"member-get-member\" (mgm) scheme is \"good\". First we need to define what \"good\" means. In raw financial terms, it means that the money spent on vouchers in acquiring new members through the mgm scheme was a justified investment. \n",
    "\n",
    "Usually the metric used to assess such a marketing investment is:  \n",
    "    \n",
    "`Customer lifetime value (LTV) - Customer acquisition cost(CAC)`\n",
    "\n",
    "If the figure is greater than 0, then the investment is considered worth it. \n",
    "\n",
    "`LTV` is usually defined as the revenue earned from the customer during their lifetime. Assuming this is a 1P delivery business (eg. Deliveroo) where the delivery service keeps, say, 20% of the bill and pays for the rider, the `LTV` can be defined as   \n",
    "\n",
    "`number of orders over lifetime x average order size x 20%`\n",
    "\n",
    "However, a more rational way to assess the lifetime value is to use gross-profit instead of revenue with the cost of sales being rider cost. Typically, that figure for food delivery companies is 15%. So we modifiy our definition of `LTV` to \n",
    "\n",
    "`number of orders over lifetime x average order size x 20% x 15%`\n",
    "\n",
    "Next, assuming that customer lifespan = 10 years and that the observed average 6 monthly orders pattern persists over the rest of the lifetime we can change the formula to \n",
    "\n",
    "`6 month cumulative orders x 20 x average order size x 20% x 15%`\n",
    "\n",
    "This figure might overvalue the LTV since the amount earned is spread over ten years and therefore does not take into account time value of money. On the other hand, this does not take into account any inflation in the order value over time. We can take both these into account by assuming a real interest rate of, say, 3%. With that assumption, an inflated pound earned every year for the next ten years is worth 8.8 pounds today. So we can use this formula to simplify the LTV calculation:\n",
    "\n",
    "`(6 month cumulative orders x average order size x 2) x 20% x 15% x 8.78`\n",
    "\n",
    "`CAC` in this case is simply 2x the voucher amount (assuming no other direct marketing expenses).\n",
    "\n",
    "\n",
    "\n"
   ]
  },
  {
   "cell_type": "markdown",
   "id": "4f861aff",
   "metadata": {},
   "source": [
    "\n",
    "First, let's load the data, remove the records where mgm is NaN or 0 to get `mgm_df`"
   ]
  },
  {
   "cell_type": "code",
   "execution_count": 7,
   "id": "88dfb25d",
   "metadata": {},
   "outputs": [
    {
     "name": "stdout",
     "output_type": "stream",
     "text": [
      "(356, 14)\n"
     ]
    }
   ],
   "source": [
    "df = pd.read_csv(\"assignment-docs/Sample Data - Case Study.csv\")\n",
    "nn_df = df[df[\"member_get_member_viral\"].notnull()]\n",
    "total = df.shape[0]\n",
    "mgm_df = df[df[\"member_get_member_viral\"]==1]\n",
    "\n",
    "print(mgm_df.shape)"
   ]
  },
  {
   "cell_type": "markdown",
   "id": "8e3b6cba",
   "metadata": {},
   "source": [
    "We see that we have only 356 records to play with. So, let's construct a dataframe using which we can calculate the metrics we need to make our decision."
   ]
  },
  {
   "cell_type": "code",
   "execution_count": 14,
   "id": "d22c4fe4",
   "metadata": {},
   "outputs": [],
   "source": [
    "analysis_df = mgm_df[[\"most_used_city\",\"voucher_amount\", \"average_order_value\",  \"cnt_orders_6m_fwd\"]]"
   ]
  },
  {
   "cell_type": "code",
   "execution_count": 22,
   "id": "19c7b268",
   "metadata": {},
   "outputs": [
    {
     "name": "stderr",
     "output_type": "stream",
     "text": [
      "/tmp/ipykernel_258424/376937833.py:2: SettingWithCopyWarning: \n",
      "A value is trying to be set on a copy of a slice from a DataFrame.\n",
      "Try using .loc[row_indexer,col_indexer] = value instead\n",
      "\n",
      "See the caveats in the documentation: https://pandas.pydata.org/pandas-docs/stable/user_guide/indexing.html#returning-a-view-versus-a-copy\n",
      "  analysis_df[\"LTV\"] = analysis_df[\"cnt_orders_6m_fwd\"]*analysis_df[\"average_order_value\"]*0.2*0.15*8.78\n"
     ]
    }
   ],
   "source": [
    "#`(6 month cumulative orders x average order size x 2) x 20% x 15% x 8.78`\n",
    "analysis_df[\"LTV\"] = analysis_df[\"cnt_orders_6m_fwd\"]*analysis_df[\"average_order_value\"]*0.2*0.15*8.78\n",
    "analysis_df[\"LTV - CAC\"] = analysis_df[\"LTV\"] - 2*analysis_df[\"voucher_amount\"]"
   ]
  },
  {
   "cell_type": "code",
   "execution_count": 25,
   "id": "9bb0bb23",
   "metadata": {},
   "outputs": [
    {
     "data": {
      "text/html": [
       "<div>\n",
       "<style scoped>\n",
       "    .dataframe tbody tr th:only-of-type {\n",
       "        vertical-align: middle;\n",
       "    }\n",
       "\n",
       "    .dataframe tbody tr th {\n",
       "        vertical-align: top;\n",
       "    }\n",
       "\n",
       "    .dataframe thead th {\n",
       "        text-align: right;\n",
       "    }\n",
       "</style>\n",
       "<table border=\"1\" class=\"dataframe\">\n",
       "  <thead>\n",
       "    <tr style=\"text-align: right;\">\n",
       "      <th></th>\n",
       "      <th>most_used_city</th>\n",
       "      <th>voucher_amount</th>\n",
       "      <th>average_order_value</th>\n",
       "      <th>cnt_orders_6m_fwd</th>\n",
       "      <th>life_time_revenue</th>\n",
       "      <th>LTV</th>\n",
       "      <th>LTV - CAC</th>\n",
       "    </tr>\n",
       "  </thead>\n",
       "  <tbody>\n",
       "    <tr>\n",
       "      <th>2</th>\n",
       "      <td>Manchester</td>\n",
       "      <td>10.0</td>\n",
       "      <td>35.28</td>\n",
       "      <td>1</td>\n",
       "      <td>141.12</td>\n",
       "      <td>9.292752</td>\n",
       "      <td>-10.707248</td>\n",
       "    </tr>\n",
       "    <tr>\n",
       "      <th>176</th>\n",
       "      <td>London</td>\n",
       "      <td>10.0</td>\n",
       "      <td>19.02</td>\n",
       "      <td>1</td>\n",
       "      <td>76.08</td>\n",
       "      <td>5.009868</td>\n",
       "      <td>-14.990132</td>\n",
       "    </tr>\n",
       "    <tr>\n",
       "      <th>205</th>\n",
       "      <td>London</td>\n",
       "      <td>10.0</td>\n",
       "      <td>30.00</td>\n",
       "      <td>1</td>\n",
       "      <td>120.00</td>\n",
       "      <td>7.902000</td>\n",
       "      <td>-12.098000</td>\n",
       "    </tr>\n",
       "    <tr>\n",
       "      <th>213</th>\n",
       "      <td>London</td>\n",
       "      <td>10.0</td>\n",
       "      <td>18.36</td>\n",
       "      <td>1</td>\n",
       "      <td>73.44</td>\n",
       "      <td>4.836024</td>\n",
       "      <td>-15.163976</td>\n",
       "    </tr>\n",
       "    <tr>\n",
       "      <th>222</th>\n",
       "      <td>Manchester</td>\n",
       "      <td>10.0</td>\n",
       "      <td>21.54</td>\n",
       "      <td>1</td>\n",
       "      <td>86.16</td>\n",
       "      <td>5.673636</td>\n",
       "      <td>-14.326364</td>\n",
       "    </tr>\n",
       "    <tr>\n",
       "      <th>...</th>\n",
       "      <td>...</td>\n",
       "      <td>...</td>\n",
       "      <td>...</td>\n",
       "      <td>...</td>\n",
       "      <td>...</td>\n",
       "      <td>...</td>\n",
       "      <td>...</td>\n",
       "    </tr>\n",
       "    <tr>\n",
       "      <th>24626</th>\n",
       "      <td>London</td>\n",
       "      <td>10.0</td>\n",
       "      <td>27.06</td>\n",
       "      <td>2</td>\n",
       "      <td>216.48</td>\n",
       "      <td>14.255208</td>\n",
       "      <td>-5.744792</td>\n",
       "    </tr>\n",
       "    <tr>\n",
       "      <th>24648</th>\n",
       "      <td>London</td>\n",
       "      <td>10.0</td>\n",
       "      <td>74.52</td>\n",
       "      <td>1</td>\n",
       "      <td>298.08</td>\n",
       "      <td>19.628568</td>\n",
       "      <td>-0.371432</td>\n",
       "    </tr>\n",
       "    <tr>\n",
       "      <th>24768</th>\n",
       "      <td>London</td>\n",
       "      <td>10.0</td>\n",
       "      <td>25.80</td>\n",
       "      <td>1</td>\n",
       "      <td>103.20</td>\n",
       "      <td>6.795720</td>\n",
       "      <td>-13.204280</td>\n",
       "    </tr>\n",
       "    <tr>\n",
       "      <th>24792</th>\n",
       "      <td>London</td>\n",
       "      <td>10.0</td>\n",
       "      <td>19.20</td>\n",
       "      <td>1</td>\n",
       "      <td>76.80</td>\n",
       "      <td>5.057280</td>\n",
       "      <td>-14.942720</td>\n",
       "    </tr>\n",
       "    <tr>\n",
       "      <th>24917</th>\n",
       "      <td>London</td>\n",
       "      <td>10.0</td>\n",
       "      <td>10.80</td>\n",
       "      <td>1</td>\n",
       "      <td>43.20</td>\n",
       "      <td>2.844720</td>\n",
       "      <td>-17.155280</td>\n",
       "    </tr>\n",
       "  </tbody>\n",
       "</table>\n",
       "<p>356 rows × 7 columns</p>\n",
       "</div>"
      ],
      "text/plain": [
       "      most_used_city  voucher_amount  average_order_value  cnt_orders_6m_fwd  \\\n",
       "2         Manchester            10.0                35.28                  1   \n",
       "176           London            10.0                19.02                  1   \n",
       "205           London            10.0                30.00                  1   \n",
       "213           London            10.0                18.36                  1   \n",
       "222       Manchester            10.0                21.54                  1   \n",
       "...              ...             ...                  ...                ...   \n",
       "24626         London            10.0                27.06                  2   \n",
       "24648         London            10.0                74.52                  1   \n",
       "24768         London            10.0                25.80                  1   \n",
       "24792         London            10.0                19.20                  1   \n",
       "24917         London            10.0                10.80                  1   \n",
       "\n",
       "       life_time_revenue        LTV  LTV - CAC  \n",
       "2                 141.12   9.292752 -10.707248  \n",
       "176                76.08   5.009868 -14.990132  \n",
       "205               120.00   7.902000 -12.098000  \n",
       "213                73.44   4.836024 -15.163976  \n",
       "222                86.16   5.673636 -14.326364  \n",
       "...                  ...        ...        ...  \n",
       "24626             216.48  14.255208  -5.744792  \n",
       "24648             298.08  19.628568  -0.371432  \n",
       "24768             103.20   6.795720 -13.204280  \n",
       "24792              76.80   5.057280 -14.942720  \n",
       "24917              43.20   2.844720 -17.155280  \n",
       "\n",
       "[356 rows x 7 columns]"
      ]
     },
     "execution_count": 25,
     "metadata": {},
     "output_type": "execute_result"
    }
   ],
   "source": [
    "analysis_df\n"
   ]
  },
  {
   "cell_type": "markdown",
   "id": "8a85234a",
   "metadata": {},
   "source": [
    "As we can see from the histogram below, the vast majority of the mgm customer acquisitions result in negative vallue. "
   ]
  },
  {
   "cell_type": "code",
   "execution_count": 26,
   "id": "0973dd99",
   "metadata": {},
   "outputs": [
    {
     "data": {
      "text/plain": [
       "<AxesSubplot:>"
      ]
     },
     "execution_count": 26,
     "metadata": {},
     "output_type": "execute_result"
    },
    {
     "data": {
      "image/png": "[encoded data removed]",
      "text/plain": [
       "<Figure size 432x288 with 1 Axes>"
      ]
     },
     "metadata": {
      "needs_background": "light"
     },
     "output_type": "display_data"
    }
   ],
   "source": [
    "analysis_df[\"LTV - CAC\"].hist()"
   ]
  },
  {
   "cell_type": "markdown",
   "id": "d67e9060",
   "metadata": {},
   "source": [
    "we can also assess that analytically:"
   ]
  },
  {
   "cell_type": "code",
   "execution_count": 36,
   "id": "9c1f272f",
   "metadata": {},
   "outputs": [
    {
     "name": "stdout",
     "output_type": "stream",
     "text": [
      "number of profitable MGMs:\t25 out of a total of 356\n"
     ]
    }
   ],
   "source": [
    "num_profitable_mgm = analysis_df[analysis_df[\"LTV - CAC\"]>0].shape[0]\n",
    "print(f\"number of profitable MGMs:\\t{num_profitable_mgm} out of a total of {analysis_df.shape[0]}\")\n"
   ]
  },
  {
   "cell_type": "markdown",
   "id": "42107d4e",
   "metadata": {},
   "source": [
    "#### Strategic considerations\n",
    "While the method I've described is a sensible way to go about assessing whether the scheme is worth it, sometimes there might be strategic reasons why the client might want to proceed with it despite it being unprofitable on the face of it. For example, they might want to make life difficult for a competitor. Or they might want to onboard customers so that they could cross-sell other services (eg. Uber Eats and Uber).\n"
   ]
  },
  {
   "cell_type": "markdown",
   "id": "d5b75f2f",
   "metadata": {},
   "source": [
    "#### Further analysis\n",
    "The lowest hanging fruit is to use a classifier predict which customer is likel to refer profitable new users. One could even look at the various cities separately and see if some markets result in more profitable mgm schemes. "
   ]
  },
  {
   "cell_type": "code",
   "execution_count": null,
   "id": "4fa85f95",
   "metadata": {},
   "outputs": [],
   "source": []
  }
 ],
 "metadata": {
  "kernelspec": {
   "display_name": "Python 3 (ipykernel)",
   "language": "python",
   "name": "python3"
  },
  "language_info": {
   "codemirror_mode": {
    "name": "ipython",
    "version": 3
   },
   "file_extension": ".py",
   "mimetype": "text/x-python",
   "name": "python",
   "nbconvert_exporter": "python",
   "pygments_lexer": "ipython3",
   "version": "3.8.0"
  }
 },
 "nbformat": 4,
 "nbformat_minor": 5
}
